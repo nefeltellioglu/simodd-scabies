{
 "cells": [
  {
   "cell_type": "markdown",
   "metadata": {},
   "source": [
    "### Simulating population demography\n",
    "\n",
    "First, we'll set up the path to the simodd-pop library, so python knows where to find the model code."
   ]
  },
  {
   "cell_type": "code",
   "execution_count": 2,
   "metadata": {},
   "outputs": [],
   "source": [
    "import sys\n",
    "sim_path = '/home/debian/simodd-pop-scabies'\n",
    "#'/home/unimelb.edu.au/ngeard/projects/repos/simodd-pop'\n",
    "sys.path.append(sim_path)"
   ]
  },
  {
   "cell_type": "markdown",
   "metadata": {},
   "source": [
    "Next we'll import the various library functions we need, as well as the parameters for the current model.\n",
    "\n",
    "main provides some convenience functions for running a simulation and producing output, but eventually that should probably be explicitly incorporated into this notebook."
   ]
  },
  {
   "cell_type": "code",
   "execution_count": 3,
   "metadata": {},
   "outputs": [],
   "source": [
    "from population.simulation import Simulation\n",
    "from example_pop.params import p\n",
    "from example_pop.main import run_single"
   ]
  },
  {
   "cell_type": "markdown",
   "metadata": {},
   "source": [
    "Simulation paramaters are stored as a dictionary. We can override the default parameter values, or add new parameters, as follows. (nb: we need to do this at the moment as 'preg' is required but not currently included in params.py!)"
   ]
  },
  {
   "cell_type": "markdown",
   "metadata": {},
   "source": [
    "Now run the simulation, using the specified parameters."
   ]
  },
  {
   "cell_type": "code",
   "execution_count": null,
   "metadata": {},
   "outputs": [],
   "source": [
    "sim = run_single(p)"
   ]
  },
  {
   "cell_type": "code",
   "execution_count": null,
   "metadata": {},
   "outputs": [],
   "source": []
  }
 ],
 "metadata": {
  "kernelspec": {
   "display_name": "Python 3",
   "language": "python",
   "name": "python3"
  },
  "language_info": {
   "codemirror_mode": {
    "name": "ipython",
    "version": 3
   },
   "file_extension": ".py",
   "mimetype": "text/x-python",
   "name": "python",
   "nbconvert_exporter": "python",
   "pygments_lexer": "ipython3",
   "version": "3.7.9"
  }
 },
 "nbformat": 4,
 "nbformat_minor": 4
}
